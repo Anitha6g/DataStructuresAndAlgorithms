{
 "cells": [
  {
   "cell_type": "code",
   "execution_count": 11,
   "metadata": {},
   "outputs": [
    {
     "name": "stdout",
     "output_type": "stream",
     "text": [
      "4\n"
     ]
    }
   ],
   "source": [
    "def calcBoats(w,l):\n",
    "    w.sort()\n",
    "    left = 0\n",
    "    right = len(w) - 1\n",
    "    noBoats = 0\n",
    "    \n",
    "    while(left <= right):\n",
    "        if left == right:\n",
    "            noBoats += 1\n",
    "            break\n",
    "        elif w[left] + w[right] <= l:\n",
    "            left +=1\n",
    "\n",
    "        noBoats +=1\n",
    "        right -=1      \n",
    "    return noBoats\n",
    "    \n",
    "weights = [3,5,3,4]\n",
    "limit = 5\n",
    "\n",
    "boats = calcBoats(weights, limit)\n",
    "print(boats)"
   ]
  }
 ],
 "metadata": {
  "kernelspec": {
   "display_name": "Python 3",
   "language": "python",
   "name": "python3"
  },
  "language_info": {
   "codemirror_mode": {
    "name": "ipython",
    "version": 3
   },
   "file_extension": ".py",
   "mimetype": "text/x-python",
   "name": "python",
   "nbconvert_exporter": "python",
   "pygments_lexer": "ipython3",
   "version": "3.8.5"
  }
 },
 "nbformat": 4,
 "nbformat_minor": 4
}
