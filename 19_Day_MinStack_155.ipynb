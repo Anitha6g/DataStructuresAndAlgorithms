{
 "cells": [
  {
   "cell_type": "code",
   "execution_count": 1,
   "metadata": {},
   "outputs": [],
   "source": [
    "class MinStack:\n",
    "\n",
    "    def __init__(self):\n",
    "        \"\"\"\n",
    "        initialize your data structure here.\n",
    "        \"\"\"\n",
    "        self.stack = []\n",
    "\n",
    "    def push(self, val: int) -> None:\n",
    "        curMin = self.getMin()\n",
    "        if curMin == None or curMin > val:\n",
    "            curMin = val\n",
    "        self.stack.append((val, curMin))\n",
    "\n",
    "    def pop(self) -> None:\n",
    "        self.stack.pop()\n",
    "\n",
    "    def top(self) -> int:\n",
    "        return self.stack[-1][0] if self.stack else None\n",
    "\n",
    "    def getMin(self) -> int:\n",
    "        return self.stack[-1][1] if self.stack else None\n",
    "\n"
   ]
  }
 ],
 "metadata": {
  "kernelspec": {
   "display_name": "Python 3",
   "language": "python",
   "name": "python3"
  },
  "language_info": {
   "codemirror_mode": {
    "name": "ipython",
    "version": 3
   },
   "file_extension": ".py",
   "mimetype": "text/x-python",
   "name": "python",
   "nbconvert_exporter": "python",
   "pygments_lexer": "ipython3",
   "version": "3.8.5"
  }
 },
 "nbformat": 4,
 "nbformat_minor": 4
}
