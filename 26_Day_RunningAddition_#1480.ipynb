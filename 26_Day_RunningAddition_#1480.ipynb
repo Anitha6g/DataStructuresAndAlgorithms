{
 "cells": [
  {
   "cell_type": "code",
   "execution_count": 1,
   "metadata": {},
   "outputs": [],
   "source": [
    "#My solution\n",
    "class Solution:\n",
    "    def runningSum(self, nums):\n",
    "        for i in range(1, len(nums)):\n",
    "            nums[i] = nums[i] + nums[i-1]   \n",
    "        return nums"
   ]
  },
  {
   "cell_type": "code",
   "execution_count": 2,
   "metadata": {},
   "outputs": [],
   "source": [
    "#Easy solution\n",
    "class Solution:\n",
    "    def runningSum(self, nums):\n",
    "        return [sum(nums[:i+1]) for i in range(len(nums))]"
   ]
  },
  {
   "cell_type": "code",
   "execution_count": 3,
   "metadata": {},
   "outputs": [],
   "source": [
    "#Inbuild itertool fuction\n",
    "import itertools\n",
    "class Solution:\n",
    "    def runningSum(self, nums):\n",
    "        return itertools.accumulate(nums)"
   ]
  },
  {
   "cell_type": "code",
   "execution_count": 4,
   "metadata": {},
   "outputs": [
    {
     "name": "stdout",
     "output_type": "stream",
     "text": [
      "1\n",
      "3\n",
      "6\n",
      "10\n"
     ]
    }
   ],
   "source": [
    "nums = [1,2,3,4]\n",
    "ob = Solution()\n",
    "result = ob.runningSum(nums)\n",
    "for i in result:\n",
    "    print(i)"
   ]
  },
  {
   "cell_type": "code",
   "execution_count": null,
   "metadata": {},
   "outputs": [],
   "source": []
  }
 ],
 "metadata": {
  "kernelspec": {
   "display_name": "Python 3",
   "language": "python",
   "name": "python3"
  },
  "language_info": {
   "codemirror_mode": {
    "name": "ipython",
    "version": 3
   },
   "file_extension": ".py",
   "mimetype": "text/x-python",
   "name": "python",
   "nbconvert_exporter": "python",
   "pygments_lexer": "ipython3",
   "version": "3.8.5"
  }
 },
 "nbformat": 4,
 "nbformat_minor": 4
}
