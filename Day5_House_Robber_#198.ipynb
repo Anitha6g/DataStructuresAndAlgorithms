{
 "cells": [
  {
   "cell_type": "code",
   "execution_count": 2,
   "metadata": {},
   "outputs": [
    {
     "name": "stdout",
     "output_type": "stream",
     "text": [
      "12\n"
     ]
    }
   ],
   "source": [
    "class Solution:\n",
    "    def rob(self, nums) -> int:\n",
    "        n = len(nums)\n",
    "        if n==0:\n",
    "            return 0\n",
    "        \n",
    "        dp = [0] * n\n",
    "        dp[0] = nums[0]\n",
    "        \n",
    "        for i in range(1,n):\n",
    "            if i == 1:\n",
    "                dp[i] = max(dp[0],nums[1])\n",
    "            else:\n",
    "                dp[i] = max(dp[i-1],dp[i-2] + nums[i])\n",
    "                \n",
    "        return dp[-1]     \n",
    "\n",
    "arr = [2,7,9,3,1]\n",
    "\n",
    "ob = Solution()\n",
    "result = ob.rob(arr)\n",
    "print(result)"
   ]
  },
  {
   "cell_type": "code",
   "execution_count": null,
   "metadata": {},
   "outputs": [],
   "source": []
  }
 ],
 "metadata": {
  "kernelspec": {
   "display_name": "Python 3",
   "language": "python",
   "name": "python3"
  },
  "language_info": {
   "codemirror_mode": {
    "name": "ipython",
    "version": 3
   },
   "file_extension": ".py",
   "mimetype": "text/x-python",
   "name": "python",
   "nbconvert_exporter": "python",
   "pygments_lexer": "ipython3",
   "version": "3.8.5"
  }
 },
 "nbformat": 4,
 "nbformat_minor": 4
}
