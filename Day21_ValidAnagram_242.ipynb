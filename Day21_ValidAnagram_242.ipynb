{
 "cells": [
  {
   "cell_type": "code",
   "execution_count": 1,
   "metadata": {},
   "outputs": [],
   "source": [
    "#Easy solution 1\n",
    "class Solution:\n",
    "    def isAnagram(self, s, t) -> bool:\n",
    "        s,t = s.lower(),t.lower()\n",
    "        return (sorted(s) == sorted(t))"
   ]
  },
  {
   "cell_type": "code",
   "execution_count": 2,
   "metadata": {},
   "outputs": [],
   "source": [
    "#Easy solution 2\n",
    "from collections import Counter\n",
    "class Solution:\n",
    "    def isAnagram(self, s, t) -> bool:\n",
    "        s,t = s.lower(),t.lower()\n",
    "        return (Counter(s) == Counter(t))"
   ]
  },
  {
   "cell_type": "code",
   "execution_count": 3,
   "metadata": {},
   "outputs": [],
   "source": [
    "#my solution\n",
    "import re\n",
    "class Solution:\n",
    "    def preprocess(self,string):\n",
    "        string = string.lower()\n",
    "        string = string.replace(' ','')\n",
    "        return string\n",
    "    def isAnagram(self, s, t) -> bool:\n",
    "        s = self.preprocess(s)\n",
    "        t = self.preprocess(t)\n",
    "        s = list(s)\n",
    "        t = list(t)\n",
    "        s.sort()\n",
    "        t.sort()\n",
    "        if s == t:\n",
    "            return True\n",
    "        return False"
   ]
  },
  {
   "cell_type": "code",
   "execution_count": 4,
   "metadata": {},
   "outputs": [
    {
     "name": "stdout",
     "output_type": "stream",
     "text": [
      "True\n"
     ]
    }
   ],
   "source": [
    "a = 'A gentleman'\n",
    "b = 'Elegant man'\n",
    "ob = Solution()\n",
    "print(ob.isAnagram(a,b))"
   ]
  },
  {
   "cell_type": "code",
   "execution_count": null,
   "metadata": {},
   "outputs": [],
   "source": []
  }
 ],
 "metadata": {
  "kernelspec": {
   "display_name": "Python 3",
   "language": "python",
   "name": "python3"
  },
  "language_info": {
   "codemirror_mode": {
    "name": "ipython",
    "version": 3
   },
   "file_extension": ".py",
   "mimetype": "text/x-python",
   "name": "python",
   "nbconvert_exporter": "python",
   "pygments_lexer": "ipython3",
   "version": "3.8.5"
  }
 },
 "nbformat": 4,
 "nbformat_minor": 4
}
