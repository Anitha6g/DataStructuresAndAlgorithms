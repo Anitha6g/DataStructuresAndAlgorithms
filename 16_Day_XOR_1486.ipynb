{
 "cells": [
  {
   "cell_type": "code",
   "execution_count": 7,
   "metadata": {},
   "outputs": [],
   "source": [
    "from operator import ixor\n",
    "from functools import reduce\n",
    "class Solution:\n",
    "    def xorOperation(self, n, start) -> int:\n",
    "        output = [0] * n\n",
    "        output[0] = start\n",
    "        \n",
    "        for i in range(1,n):\n",
    "            output[i] = start + 2*i\n",
    "        return (reduce(ixor, output))"
   ]
  },
  {
   "cell_type": "code",
   "execution_count": 8,
   "metadata": {},
   "outputs": [
    {
     "name": "stdout",
     "output_type": "stream",
     "text": [
      "8\n"
     ]
    }
   ],
   "source": [
    "n = 5\n",
    "start = 0\n",
    "ob = Solution()\n",
    "print(ob.xorOperation(n,start))"
   ]
  }
 ],
 "metadata": {
  "kernelspec": {
   "display_name": "Python 3",
   "language": "python",
   "name": "python3"
  },
  "language_info": {
   "codemirror_mode": {
    "name": "ipython",
    "version": 3
   },
   "file_extension": ".py",
   "mimetype": "text/x-python",
   "name": "python",
   "nbconvert_exporter": "python",
   "pygments_lexer": "ipython3",
   "version": "3.8.5"
  }
 },
 "nbformat": 4,
 "nbformat_minor": 4
}
