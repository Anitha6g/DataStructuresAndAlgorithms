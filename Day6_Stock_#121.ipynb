{
 "cells": [
  {
   "cell_type": "code",
   "execution_count": 1,
   "metadata": {},
   "outputs": [
    {
     "name": "stdout",
     "output_type": "stream",
     "text": [
      "5\n"
     ]
    }
   ],
   "source": [
    "class Solution:\n",
    "    def maxProfit(self, prices) -> int:\n",
    "        n = len(prices)\n",
    "        if n==0:\n",
    "            return 0\n",
    "        buyPrice = float('inf')\n",
    "        sellPrice = 0\n",
    "        \n",
    "        for i in prices:\n",
    "            if i < buyPrice:\n",
    "                buyPrice = i\n",
    "            else:\n",
    "                sellPrice = max(sellPrice,i-buyPrice)\n",
    "        return sellPrice\n",
    "    \n",
    "inp = [7,1,5,3,6,4]\n",
    "ob = Solution()\n",
    "result = ob.maxProfit(inp)\n",
    "print(result)"
   ]
  },
  {
   "cell_type": "code",
   "execution_count": null,
   "metadata": {},
   "outputs": [],
   "source": []
  }
 ],
 "metadata": {
  "kernelspec": {
   "display_name": "Python 3",
   "language": "python",
   "name": "python3"
  },
  "language_info": {
   "codemirror_mode": {
    "name": "ipython",
    "version": 3
   },
   "file_extension": ".py",
   "mimetype": "text/x-python",
   "name": "python",
   "nbconvert_exporter": "python",
   "pygments_lexer": "ipython3",
   "version": "3.8.5"
  }
 },
 "nbformat": 4,
 "nbformat_minor": 4
}
