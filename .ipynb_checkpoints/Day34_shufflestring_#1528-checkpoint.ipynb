{
 "cells": [
  {
   "cell_type": "markdown",
   "metadata": {},
   "source": [
    "# Understanding the code from inside out:\n",
    "1. list(zip(s, indices)) ouputs [('c', 4), ('o', 5), ('d', 6), ('e', 7), ('l', 0), ('e', 2), ('e', 1), ('t', 3)]\n",
    "2. sorted(list(zip(s, indices)),key = lambda x: x[1] outputs the sorted list based on numbers inside the tuple [('l', 0), ('e', 1), ('e', 2), ('t', 3), ('c', 4), ('o', 5), ('d', 6), ('e', 7)]\n",
    "3. list(zip(*data)) Unzips the data into [('l', 'e', 'e', 't', 'c', 'o', 'd', 'e'), (0, 1, 2, 3, 4, 5, 6, 7)]\n",
    "4. [0] at the end would extract only the first element from the list i.e. [('l', 'e', 'e', 't', 'c', 'o', 'd', 'e')]\n",
    "5. \"\".join() converts the list into string i.e. leetcode"
   ]
  },
  {
   "cell_type": "code",
   "execution_count": 30,
   "metadata": {},
   "outputs": [],
   "source": [
    "class Solution:\n",
    "    def restoreString(self, s, indices):\n",
    "        return ''.join((list(zip(*(sorted(list(zip(s, indices)),key = lambda x: x[1])))))[0])\n"
   ]
  },
  {
   "cell_type": "code",
   "execution_count": 31,
   "metadata": {},
   "outputs": [
    {
     "name": "stdout",
     "output_type": "stream",
     "text": [
      "leetcode\n"
     ]
    }
   ],
   "source": [
    "s = \"codeleet\"\n",
    "indices = [4,5,6,7,0,2,1,3]\n",
    "ob = Solution()\n",
    "print(ob.restoreString(s,indices))"
   ]
  },
  {
   "cell_type": "code",
   "execution_count": 36,
   "metadata": {},
   "outputs": [
    {
     "data": {
      "text/plain": [
       "[('l', 'e', 'e', 't', 'c', 'o', 'd', 'e'), (0, 1, 2, 3, 4, 5, 6, 7)]"
      ]
     },
     "execution_count": 36,
     "metadata": {},
     "output_type": "execute_result"
    }
   ],
   "source": [
    "list(zip(*(sorted(list(zip(s, indices)),key = lambda x: x[1]))))"
   ]
  },
  {
   "cell_type": "code",
   "execution_count": null,
   "metadata": {},
   "outputs": [],
   "source": [
    "#Another solution from leetcode\n",
    "class Solution:\n",
    "    def restoreString(self, s: str, indices: List[int]) -> str:\n",
    "        res = [''] * len(s)\n",
    "        for i in range(len(s)):\n",
    "            res[indices[i]] = s[i]\n",
    "        return ''.join(i for i in res)"
   ]
  }
 ],
 "metadata": {
  "kernelspec": {
   "display_name": "Python 3",
   "language": "python",
   "name": "python3"
  },
  "language_info": {
   "codemirror_mode": {
    "name": "ipython",
    "version": 3
   },
   "file_extension": ".py",
   "mimetype": "text/x-python",
   "name": "python",
   "nbconvert_exporter": "python",
   "pygments_lexer": "ipython3",
   "version": "3.8.5"
  }
 },
 "nbformat": 4,
 "nbformat_minor": 4
}
