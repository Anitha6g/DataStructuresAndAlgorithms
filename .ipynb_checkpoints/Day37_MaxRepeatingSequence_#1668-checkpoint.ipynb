{
 "cells": [
  {
   "cell_type": "code",
   "execution_count": 12,
   "metadata": {},
   "outputs": [],
   "source": [
    "class Solution:\n",
    "    def maxRepeating(self, sequence: str, word: str) -> int:\n",
    "        maxrepeat=0\n",
    "        while maxrepeat*word in sequence: maxrepeat+=1\n",
    "        return maxrepeat-1"
   ]
  },
  {
   "cell_type": "code",
   "execution_count": 13,
   "metadata": {},
   "outputs": [
    {
     "name": "stdout",
     "output_type": "stream",
     "text": [
      "2\n"
     ]
    }
   ],
   "source": [
    "sequence = \"ababc\"\n",
    "word = \"ab\"\n",
    "ob = Solution()\n",
    "print(ob.maxRepeating(sequence,word))"
   ]
  },
  {
   "cell_type": "code",
   "execution_count": 10,
   "metadata": {},
   "outputs": [],
   "source": [
    "class Solution1:\n",
    "    def maxRepeating1(self, sequence: str, word: str) -> int:\n",
    "        pointer = 0\n",
    "        count = 0\n",
    "        while pointer < len(sequence) - 1:\n",
    "            if (sequence[pointer] + sequence[pointer + 1] == word):\n",
    "                count += 1\n",
    "            pointer += 1\n",
    "        return count"
   ]
  },
  {
   "cell_type": "code",
   "execution_count": 11,
   "metadata": {},
   "outputs": [
    {
     "name": "stdout",
     "output_type": "stream",
     "text": [
      "2\n"
     ]
    }
   ],
   "source": [
    "sequence1 = \"ababc\"\n",
    "word1 = \"ab\"\n",
    "ob1 = Solution1()\n",
    "print(ob1.maxRepeating1(sequence1,word1))"
   ]
  },
  {
   "cell_type": "code",
   "execution_count": null,
   "metadata": {},
   "outputs": [],
   "source": []
  }
 ],
 "metadata": {
  "kernelspec": {
   "display_name": "Python 3",
   "language": "python",
   "name": "python3"
  },
  "language_info": {
   "codemirror_mode": {
    "name": "ipython",
    "version": 3
   },
   "file_extension": ".py",
   "mimetype": "text/x-python",
   "name": "python",
   "nbconvert_exporter": "python",
   "pygments_lexer": "ipython3",
   "version": "3.8.5"
  }
 },
 "nbformat": 4,
 "nbformat_minor": 4
}
