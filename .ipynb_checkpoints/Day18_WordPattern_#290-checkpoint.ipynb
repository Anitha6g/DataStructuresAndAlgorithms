{
 "cells": [
  {
   "cell_type": "code",
   "execution_count": 1,
   "metadata": {},
   "outputs": [],
   "source": [
    "class Solution:\n",
    "    def patternMatch(self,s):\n",
    "        s1 = []\n",
    "        s2 = []\n",
    "        counter = 0\n",
    "        for i in range(len(s)):\n",
    "            if s[i] not in s1:\n",
    "                s2.append(counter)\n",
    "                counter += 1\n",
    "                s1.append(s[i])\n",
    "            else:\n",
    "                index = s1.index(s[i])\n",
    "                s2.append(index)\n",
    "        return s2\n",
    "    def wordPattern(self, pattern: str, s: str) -> bool:\n",
    "        string = s.split(' ')\n",
    "        return((self.patternMatch(pattern) == self.patternMatch(string)))"
   ]
  },
  {
   "cell_type": "code",
   "execution_count": 3,
   "metadata": {},
   "outputs": [
    {
     "name": "stdout",
     "output_type": "stream",
     "text": [
      "True\n"
     ]
    }
   ],
   "source": [
    "pattern = 'abba'\n",
    "strings = \"dog cat cat dog\"\n",
    "ob = Solution()\n",
    "print(ob.wordPattern(pattern,strings))"
   ]
  },
  {
   "cell_type": "code",
   "execution_count": null,
   "metadata": {},
   "outputs": [],
   "source": []
  }
 ],
 "metadata": {
  "kernelspec": {
   "display_name": "Python 3",
   "language": "python",
   "name": "python3"
  },
  "language_info": {
   "codemirror_mode": {
    "name": "ipython",
    "version": 3
   },
   "file_extension": ".py",
   "mimetype": "text/x-python",
   "name": "python",
   "nbconvert_exporter": "python",
   "pygments_lexer": "ipython3",
   "version": "3.8.5"
  }
 },
 "nbformat": 4,
 "nbformat_minor": 4
}
