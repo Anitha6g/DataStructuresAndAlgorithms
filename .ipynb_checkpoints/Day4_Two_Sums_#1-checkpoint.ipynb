{
 "cells": [
  {
   "cell_type": "code",
   "execution_count": 1,
   "metadata": {},
   "outputs": [
    {
     "name": "stdout",
     "output_type": "stream",
     "text": [
      "[1, 2]\n"
     ]
    }
   ],
   "source": [
    "#Two sum\n",
    "class Solution:\n",
    "    def twoSum(self, nums, target):\n",
    "        output = []\n",
    "        for i in range(len(nums)-1):\n",
    "            for j in range(i+1,len(nums)):\n",
    "                if nums[i] + nums[j] == target:\n",
    "                    output.append(i)\n",
    "                    output.append(j)\n",
    "        return output\n",
    "            \n",
    "ob = Solution()\n",
    "result = ob.twoSum([2,5,5,11],10)\n",
    "print(result)"
   ]
  },
  {
   "cell_type": "code",
   "execution_count": 2,
   "metadata": {},
   "outputs": [
    {
     "name": "stdout",
     "output_type": "stream",
     "text": [
      "i: 0\n",
      "j: 1\n",
      "j: 2\n",
      "j: 3\n",
      "i: 1\n",
      "j: 2\n",
      "j: 3\n",
      "i: 2\n",
      "j: 3\n",
      "i: 3\n"
     ]
    }
   ],
   "source": [
    "for i in range(4):\n",
    "    print('i: '+ str(i))\n",
    "    for j in range(i+1,4):\n",
    "        print('j: ' + str(j))"
   ]
  },
  {
   "cell_type": "code",
   "execution_count": null,
   "metadata": {},
   "outputs": [],
   "source": []
  }
 ],
 "metadata": {
  "kernelspec": {
   "display_name": "Python 3",
   "language": "python",
   "name": "python3"
  },
  "language_info": {
   "codemirror_mode": {
    "name": "ipython",
    "version": 3
   },
   "file_extension": ".py",
   "mimetype": "text/x-python",
   "name": "python",
   "nbconvert_exporter": "python",
   "pygments_lexer": "ipython3",
   "version": "3.8.5"
  }
 },
 "nbformat": 4,
 "nbformat_minor": 4
}
