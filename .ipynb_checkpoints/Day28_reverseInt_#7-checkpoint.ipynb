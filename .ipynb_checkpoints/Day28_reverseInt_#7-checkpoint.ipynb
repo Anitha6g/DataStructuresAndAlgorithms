{
 "cells": [
  {
   "cell_type": "code",
   "execution_count": null,
   "metadata": {},
   "outputs": [],
   "source": [
    "class Solution:\n",
    "    def reverse(self, x):\n",
    "        if x == 0 or x > ((2**31)-1):\n",
    "            return 0\n",
    "        \n",
    "        x = list(str(x))\n",
    "        \n",
    "        for i in range(len(x)):\n",
    "            if x[0] == '-':\n",
    "                x[0] = ''\n",
    "                x = (''.join(x[::-1])).lstrip('0')\n",
    "                return ('-' + x)\n",
    "        \n",
    "        return (''.join(x[::-1])).lstrip('0')"
   ]
  },
  {
   "cell_type": "code",
   "execution_count": 1,
   "metadata": {},
   "outputs": [],
   "source": [
    "class Solution:\n",
    "    def reverse(self, x):\n",
    "        \"\"\"\n",
    "        :type x: int\n",
    "        :rtype: int\n",
    "        \"\"\"\n",
    "        sign = [1,-1][x < 0]\n",
    "        rst = sign * int(str(abs(x))[::-1])\n",
    "        return rst if -(2**31)-1 < rst < 2**31 else 0"
   ]
  },
  {
   "cell_type": "code",
   "execution_count": 2,
   "metadata": {},
   "outputs": [],
   "source": [
    "#So basically , [x<0] would evaluate to True or False which maps to 1 & 0 respectively in python.\n",
    "\n",
    "#Case 1: if x<0, it means [x<0] will be 1(since it is true) and hence, it would take -1(at 1st index) from [1,-1]\n",
    "#Case 2: if x>0, it means [x<0] will be 0(since it is false) and hence , it would take 1(at 0th index) from [1,-1]\n",
    "\n",
    "#abs - returns the absolute value ex: abs(-94) = 94"
   ]
  },
  {
   "cell_type": "code",
   "execution_count": 4,
   "metadata": {},
   "outputs": [
    {
     "name": "stdout",
     "output_type": "stream",
     "text": [
      "-49\n"
     ]
    }
   ],
   "source": [
    "x = -94\n",
    "ob = Solution()\n",
    "print(ob.reverse(x))"
   ]
  },
  {
   "cell_type": "code",
   "execution_count": null,
   "metadata": {},
   "outputs": [],
   "source": []
  }
 ],
 "metadata": {
  "kernelspec": {
   "display_name": "Python 3",
   "language": "python",
   "name": "python3"
  },
  "language_info": {
   "codemirror_mode": {
    "name": "ipython",
    "version": 3
   },
   "file_extension": ".py",
   "mimetype": "text/x-python",
   "name": "python",
   "nbconvert_exporter": "python",
   "pygments_lexer": "ipython3",
   "version": "3.8.5"
  }
 },
 "nbformat": 4,
 "nbformat_minor": 4
}
