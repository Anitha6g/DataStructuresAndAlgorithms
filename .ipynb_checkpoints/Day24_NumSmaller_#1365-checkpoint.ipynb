{
 "cells": [
  {
   "cell_type": "code",
   "execution_count": 4,
   "metadata": {},
   "outputs": [],
   "source": [
    "#my solution\n",
    "class Solution:\n",
    "    def smallerNumbersThanCurrent(self, nums):\n",
    "        count = [0] * len(nums)\n",
    "        counter = 0\n",
    "        for i in range(len(nums)):\n",
    "            for j in range(len(nums)):\n",
    "                if nums[i] > nums[j]:\n",
    "                    counter += 1\n",
    "            count[i] = counter\n",
    "            counter = 0\n",
    "        return count"
   ]
  },
  {
   "cell_type": "code",
   "execution_count": 8,
   "metadata": {},
   "outputs": [
    {
     "name": "stdout",
     "output_type": "stream",
     "text": [
      "[4, 0, 1, 1, 3]\n"
     ]
    }
   ],
   "source": [
    "nums = [8,1,2,2,3]\n",
    "ob = Solution1()\n",
    "print(ob.smallerNumbersThanCurrent1(nums))"
   ]
  },
  {
   "cell_type": "code",
   "execution_count": 7,
   "metadata": {},
   "outputs": [],
   "source": [
    "#optimal solution\n",
    "class Solution1:\n",
    "    def smallerNumbersThanCurrent1(self, nums):\n",
    "        return [sorted(nums).index(i) for i in nums]"
   ]
  },
  {
   "cell_type": "code",
   "execution_count": null,
   "metadata": {},
   "outputs": [],
   "source": [
    "#Explaination - Wouldn't the sorted list's indices be [0,1,2,3,4]? If so, how is the case of duplicate elements \n",
    "#being handled since you are returning .index(i)?\n",
    "#Yes correct! .index(i) gives the index of the first i it comes across. So if the sorted list is [1,2,2,3,8] we \n",
    "#can see that for both 2's only one number is smaller than it. For either 2, 2 is what will be inserted in the .index(i)\n",
    "#--> .index(2). This will then give the index of the first 2 it comes across in the sorted list."
   ]
  }
 ],
 "metadata": {
  "kernelspec": {
   "display_name": "Python 3",
   "language": "python",
   "name": "python3"
  },
  "language_info": {
   "codemirror_mode": {
    "name": "ipython",
    "version": 3
   },
   "file_extension": ".py",
   "mimetype": "text/x-python",
   "name": "python",
   "nbconvert_exporter": "python",
   "pygments_lexer": "ipython3",
   "version": "3.8.5"
  }
 },
 "nbformat": 4,
 "nbformat_minor": 4
}
