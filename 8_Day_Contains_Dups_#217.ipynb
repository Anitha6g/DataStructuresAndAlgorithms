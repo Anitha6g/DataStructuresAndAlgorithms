{
 "cells": [
  {
   "cell_type": "code",
   "execution_count": 26,
   "metadata": {},
   "outputs": [
    {
     "name": "stdout",
     "output_type": "stream",
     "text": [
      "False\n"
     ]
    }
   ],
   "source": [
    "#Time Submitted\n",
    "#Status\n",
    "#Runtime\n",
    "#Memory\n",
    "#Language\n",
    "#05/03/2021 13:54\tAccepted\t108 ms\t21.5 MB\tpython3\n",
    "    \n",
    "from collections import Counter\n",
    "\n",
    "class Solution():\n",
    "    def dups(self,arr):\n",
    "        if len(arr) == 0:\n",
    "            return -1\n",
    "        if len(arr) == 1:\n",
    "            return False\n",
    "\n",
    "        a = Counter(arr).most_common(1)\n",
    "        if a[0][1] > 1:\n",
    "            return True\n",
    "        return False\n",
    "        \n",
    "\n",
    "inp = [1,2,3,4,5]\n",
    "ob = Solution()\n",
    "result = ob.dups(inp)\n",
    "print(result)"
   ]
  },
  {
   "cell_type": "code",
   "execution_count": 23,
   "metadata": {},
   "outputs": [
    {
     "name": "stdout",
     "output_type": "stream",
     "text": [
      "True\n"
     ]
    }
   ],
   "source": [
    "#05/03/2021 13:53\tAccepted\t128 ms\t21.6 MB\tpython3\n",
    "\n",
    "from collections import Counter\n",
    "\n",
    "class Solution():\n",
    "    def dups(self,arr):\n",
    "        if len(arr) == 0:\n",
    "            return -1\n",
    "        if len(arr) == 1:\n",
    "            return False\n",
    "        output = Counter(arr)\n",
    "        for i in arr:\n",
    "            if output[i] > 1:\n",
    "                return True\n",
    "        return False\n",
    "\n",
    "inp = [1,2,3,4,5,5]\n",
    "ob = Solution()\n",
    "result = ob.dups(inp)\n",
    "print(result)\n"
   ]
  },
  {
   "cell_type": "code",
   "execution_count": 4,
   "metadata": {},
   "outputs": [
    {
     "name": "stdout",
     "output_type": "stream",
     "text": [
      "True\n"
     ]
    }
   ],
   "source": [
    "#05/03/2021 13:28\tTime Limit Exceeded\tN/A\tN/A\tpython3\n",
    "class Solution():\n",
    "    def dups(self,arr):\n",
    "        if len(arr) == 0:\n",
    "            return -1\n",
    "        if len(arr) == 1:\n",
    "            return False\n",
    "        output = []\n",
    "        for i in arr:\n",
    "            if i in output:\n",
    "                return True\n",
    "            else:\n",
    "                output.append(i)\n",
    "        return False\n",
    "\n",
    "inp = [1,2,3,4,5,5]\n",
    "ob = Solution()\n",
    "result = ob.dups(inp)\n",
    "print(result)"
   ]
  },
  {
   "cell_type": "code",
   "execution_count": null,
   "metadata": {},
   "outputs": [],
   "source": [
    "#Easiest Solution \n",
    "class Solution:\n",
    "    def containsDuplicate(self, nums: List[int]) -> bool:\n",
    "        if len(set(nums)) < len(nums):\n",
    "            return True\n",
    "        else:\n",
    "            return False"
   ]
  }
 ],
 "metadata": {
  "kernelspec": {
   "display_name": "Python 3",
   "language": "python",
   "name": "python3"
  },
  "language_info": {
   "codemirror_mode": {
    "name": "ipython",
    "version": 3
   },
   "file_extension": ".py",
   "mimetype": "text/x-python",
   "name": "python",
   "nbconvert_exporter": "python",
   "pygments_lexer": "ipython3",
   "version": "3.8.5"
  }
 },
 "nbformat": 4,
 "nbformat_minor": 4
}
