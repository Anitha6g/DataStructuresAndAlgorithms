{
 "cells": [
  {
   "cell_type": "code",
   "execution_count": 7,
   "metadata": {},
   "outputs": [],
   "source": [
    "#Optimal solution\n",
    "class Solution:\n",
    "    def countPrimes(self, n) -> int:\n",
    "        if n < 2:\n",
    "            return 0\n",
    "        lis =[1] * n\n",
    "        lis[0] = lis[1] = 0\n",
    "        for i in range(2, int(n**0.5)+1):\n",
    "            if lis[i]:\n",
    "                for j in range(i*i,n,i):\n",
    "                    lis[j] = 0\n",
    "        return(sum(lis))\n",
    "        "
   ]
  },
  {
   "cell_type": "code",
   "execution_count": null,
   "metadata": {},
   "outputs": [],
   "source": [
    "#My solution very slow for huge number range\n",
    "class Solution:\n",
    "    def countPrimes(self, n) -> int:\n",
    "        lis = []\n",
    "        for i in range(n):\n",
    "            if i > 1:\n",
    "                for j in range(2,i):\n",
    "                    if i%j == 0:\n",
    "                        break\n",
    "                else:\n",
    "                    lis.append(i)\n",
    "        return len(lis)\n",
    "                    \n",
    "        "
   ]
  },
  {
   "cell_type": "code",
   "execution_count": 8,
   "metadata": {},
   "outputs": [
    {
     "name": "stdout",
     "output_type": "stream",
     "text": [
      "41537\n"
     ]
    }
   ],
   "source": [
    "ob = Solution()\n",
    "print(ob.countPrimes(499979))"
   ]
  },
  {
   "cell_type": "code",
   "execution_count": null,
   "metadata": {},
   "outputs": [],
   "source": []
  }
 ],
 "metadata": {
  "kernelspec": {
   "display_name": "Python 3",
   "language": "python",
   "name": "python3"
  },
  "language_info": {
   "codemirror_mode": {
    "name": "ipython",
    "version": 3
   },
   "file_extension": ".py",
   "mimetype": "text/x-python",
   "name": "python",
   "nbconvert_exporter": "python",
   "pygments_lexer": "ipython3",
   "version": "3.8.5"
  }
 },
 "nbformat": 4,
 "nbformat_minor": 4
}
