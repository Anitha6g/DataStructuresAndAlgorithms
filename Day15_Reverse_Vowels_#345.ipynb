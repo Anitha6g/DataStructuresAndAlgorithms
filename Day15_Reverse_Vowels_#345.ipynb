{
 "cells": [
  {
   "cell_type": "code",
   "execution_count": 1,
   "metadata": {},
   "outputs": [],
   "source": [
    "class Solution():\n",
    "    def reverse_vowels(self,s):\n",
    "        s = list(s)\n",
    "        l = 0\n",
    "        r = len(s) - 1\n",
    "        vowels = ['a','e','i','o','u']\n",
    "        \n",
    "        while l <= r:\n",
    "            if s[l] in vowels and s[r] in vowels:\n",
    "                s[l],s[r] = s[r],s[l]\n",
    "                l += 1\n",
    "                r -= 1\n",
    "            elif s[r] not in vowels:\n",
    "                r -= 1\n",
    "            elif s[l] not in vowels:\n",
    "                l += 1\n",
    "            else:\n",
    "                l += 1\n",
    "                r -= 1\n",
    "        return ''.join(s)"
   ]
  },
  {
   "cell_type": "code",
   "execution_count": 2,
   "metadata": {},
   "outputs": [
    {
     "name": "stdout",
     "output_type": "stream",
     "text": [
      "leotcede\n"
     ]
    }
   ],
   "source": [
    "s = 'leetcode'\n",
    "ob = Solution()\n",
    "print(ob.reverse_vowels(s))"
   ]
  }
 ],
 "metadata": {
  "kernelspec": {
   "display_name": "Python 3",
   "language": "python",
   "name": "python3"
  },
  "language_info": {
   "codemirror_mode": {
    "name": "ipython",
    "version": 3
   },
   "file_extension": ".py",
   "mimetype": "text/x-python",
   "name": "python",
   "nbconvert_exporter": "python",
   "pygments_lexer": "ipython3",
   "version": "3.8.5"
  }
 },
 "nbformat": 4,
 "nbformat_minor": 4
}
